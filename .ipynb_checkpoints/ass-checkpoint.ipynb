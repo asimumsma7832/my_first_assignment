{
 "cells": [
  {
   "cell_type": "markdown",
   "metadata": {},
   "source": [
    "# Assignment"
   ]
  },
  {
   "cell_type": "code",
   "execution_count": 1,
   "metadata": {},
   "outputs": [],
   "source": [
    "import pandas as pd\n",
    "import numpy as np\n",
    "import matplotlib.pyplot as plt\n",
    "import seaborn as sns "
   ]
  },
  {
   "cell_type": "code",
   "execution_count": 2,
   "metadata": {},
   "outputs": [
    {
     "data": {
      "text/html": [
       "<div>\n",
       "<style scoped>\n",
       "    .dataframe tbody tr th:only-of-type {\n",
       "        vertical-align: middle;\n",
       "    }\n",
       "\n",
       "    .dataframe tbody tr th {\n",
       "        vertical-align: top;\n",
       "    }\n",
       "\n",
       "    .dataframe thead th {\n",
       "        text-align: right;\n",
       "    }\n",
       "</style>\n",
       "<table border=\"1\" class=\"dataframe\">\n",
       "  <thead>\n",
       "    <tr style=\"text-align: right;\">\n",
       "      <th></th>\n",
       "      <th>Domain Code</th>\n",
       "      <th>Domain</th>\n",
       "      <th>Area Code</th>\n",
       "      <th>Area</th>\n",
       "      <th>Element Code</th>\n",
       "      <th>Element</th>\n",
       "      <th>Item Code</th>\n",
       "      <th>Item</th>\n",
       "      <th>Year Code</th>\n",
       "      <th>Year</th>\n",
       "      <th>Unit</th>\n",
       "      <th>Value</th>\n",
       "      <th>Flag</th>\n",
       "      <th>Flag Description</th>\n",
       "      <th>Note</th>\n",
       "    </tr>\n",
       "  </thead>\n",
       "  <tbody>\n",
       "    <tr>\n",
       "      <th>0</th>\n",
       "      <td>FS</td>\n",
       "      <td>Suite of Food Security Indicators</td>\n",
       "      <td>351</td>\n",
       "      <td>China</td>\n",
       "      <td>6127</td>\n",
       "      <td>Value</td>\n",
       "      <td>21030</td>\n",
       "      <td>Per capita food production variability (consta...</td>\n",
       "      <td>2000</td>\n",
       "      <td>2000</td>\n",
       "      <td>1000 I$</td>\n",
       "      <td>NaN</td>\n",
       "      <td>O</td>\n",
       "      <td>Missing value</td>\n",
       "      <td>NaN</td>\n",
       "    </tr>\n",
       "    <tr>\n",
       "      <th>1</th>\n",
       "      <td>FS</td>\n",
       "      <td>Suite of Food Security Indicators</td>\n",
       "      <td>351</td>\n",
       "      <td>China</td>\n",
       "      <td>6127</td>\n",
       "      <td>Value</td>\n",
       "      <td>21030</td>\n",
       "      <td>Per capita food production variability (consta...</td>\n",
       "      <td>2001</td>\n",
       "      <td>2001</td>\n",
       "      <td>1000 I$</td>\n",
       "      <td>8.0</td>\n",
       "      <td>E</td>\n",
       "      <td>Estimated value</td>\n",
       "      <td>NaN</td>\n",
       "    </tr>\n",
       "    <tr>\n",
       "      <th>2</th>\n",
       "      <td>FS</td>\n",
       "      <td>Suite of Food Security Indicators</td>\n",
       "      <td>351</td>\n",
       "      <td>China</td>\n",
       "      <td>6127</td>\n",
       "      <td>Value</td>\n",
       "      <td>21030</td>\n",
       "      <td>Per capita food production variability (consta...</td>\n",
       "      <td>2002</td>\n",
       "      <td>2002</td>\n",
       "      <td>1000 I$</td>\n",
       "      <td>5.8</td>\n",
       "      <td>E</td>\n",
       "      <td>Estimated value</td>\n",
       "      <td>NaN</td>\n",
       "    </tr>\n",
       "    <tr>\n",
       "      <th>3</th>\n",
       "      <td>FS</td>\n",
       "      <td>Suite of Food Security Indicators</td>\n",
       "      <td>351</td>\n",
       "      <td>China</td>\n",
       "      <td>6127</td>\n",
       "      <td>Value</td>\n",
       "      <td>21030</td>\n",
       "      <td>Per capita food production variability (consta...</td>\n",
       "      <td>2003</td>\n",
       "      <td>2003</td>\n",
       "      <td>1000 I$</td>\n",
       "      <td>3.5</td>\n",
       "      <td>E</td>\n",
       "      <td>Estimated value</td>\n",
       "      <td>NaN</td>\n",
       "    </tr>\n",
       "    <tr>\n",
       "      <th>4</th>\n",
       "      <td>FS</td>\n",
       "      <td>Suite of Food Security Indicators</td>\n",
       "      <td>351</td>\n",
       "      <td>China</td>\n",
       "      <td>6127</td>\n",
       "      <td>Value</td>\n",
       "      <td>21030</td>\n",
       "      <td>Per capita food production variability (consta...</td>\n",
       "      <td>2004</td>\n",
       "      <td>2004</td>\n",
       "      <td>1000 I$</td>\n",
       "      <td>6.5</td>\n",
       "      <td>E</td>\n",
       "      <td>Estimated value</td>\n",
       "      <td>NaN</td>\n",
       "    </tr>\n",
       "  </tbody>\n",
       "</table>\n",
       "</div>"
      ],
      "text/plain": [
       "  Domain Code                             Domain  Area Code   Area  \\\n",
       "0          FS  Suite of Food Security Indicators        351  China   \n",
       "1          FS  Suite of Food Security Indicators        351  China   \n",
       "2          FS  Suite of Food Security Indicators        351  China   \n",
       "3          FS  Suite of Food Security Indicators        351  China   \n",
       "4          FS  Suite of Food Security Indicators        351  China   \n",
       "\n",
       "   Element Code Element  Item Code  \\\n",
       "0          6127   Value      21030   \n",
       "1          6127   Value      21030   \n",
       "2          6127   Value      21030   \n",
       "3          6127   Value      21030   \n",
       "4          6127   Value      21030   \n",
       "\n",
       "                                                Item  Year Code  Year  \\\n",
       "0  Per capita food production variability (consta...       2000  2000   \n",
       "1  Per capita food production variability (consta...       2001  2001   \n",
       "2  Per capita food production variability (consta...       2002  2002   \n",
       "3  Per capita food production variability (consta...       2003  2003   \n",
       "4  Per capita food production variability (consta...       2004  2004   \n",
       "\n",
       "      Unit  Value Flag Flag Description  Note  \n",
       "0  1000 I$    NaN    O    Missing value   NaN  \n",
       "1  1000 I$    8.0    E  Estimated value   NaN  \n",
       "2  1000 I$    5.8    E  Estimated value   NaN  \n",
       "3  1000 I$    3.5    E  Estimated value   NaN  \n",
       "4  1000 I$    6.5    E  Estimated value   NaN  "
      ]
     },
     "execution_count": 2,
     "metadata": {},
     "output_type": "execute_result"
    }
   ],
   "source": [
    "ass = pd.read_csv(\"assignment_data.csv\")\n",
    "ass.head()"
   ]
  },
  {
   "cell_type": "code",
   "execution_count": 3,
   "metadata": {},
   "outputs": [
    {
     "data": {
      "text/html": [
       "<div>\n",
       "<style scoped>\n",
       "    .dataframe tbody tr th:only-of-type {\n",
       "        vertical-align: middle;\n",
       "    }\n",
       "\n",
       "    .dataframe tbody tr th {\n",
       "        vertical-align: top;\n",
       "    }\n",
       "\n",
       "    .dataframe thead th {\n",
       "        text-align: right;\n",
       "    }\n",
       "</style>\n",
       "<table border=\"1\" class=\"dataframe\">\n",
       "  <thead>\n",
       "    <tr style=\"text-align: right;\">\n",
       "      <th></th>\n",
       "      <th>Area Code</th>\n",
       "      <th>Element Code</th>\n",
       "      <th>Item Code</th>\n",
       "      <th>Year Code</th>\n",
       "      <th>Year</th>\n",
       "      <th>Value</th>\n",
       "      <th>Note</th>\n",
       "    </tr>\n",
       "  </thead>\n",
       "  <tbody>\n",
       "    <tr>\n",
       "      <th>count</th>\n",
       "      <td>22.0</td>\n",
       "      <td>22.0</td>\n",
       "      <td>22.0</td>\n",
       "      <td>22.000000</td>\n",
       "      <td>22.000000</td>\n",
       "      <td>19.000000</td>\n",
       "      <td>0.0</td>\n",
       "    </tr>\n",
       "    <tr>\n",
       "      <th>mean</th>\n",
       "      <td>351.0</td>\n",
       "      <td>6127.0</td>\n",
       "      <td>21030.0</td>\n",
       "      <td>2010.500000</td>\n",
       "      <td>2010.500000</td>\n",
       "      <td>4.573684</td>\n",
       "      <td>NaN</td>\n",
       "    </tr>\n",
       "    <tr>\n",
       "      <th>std</th>\n",
       "      <td>0.0</td>\n",
       "      <td>0.0</td>\n",
       "      <td>0.0</td>\n",
       "      <td>6.493587</td>\n",
       "      <td>6.493587</td>\n",
       "      <td>1.504010</td>\n",
       "      <td>NaN</td>\n",
       "    </tr>\n",
       "    <tr>\n",
       "      <th>min</th>\n",
       "      <td>351.0</td>\n",
       "      <td>6127.0</td>\n",
       "      <td>21030.0</td>\n",
       "      <td>2000.000000</td>\n",
       "      <td>2000.000000</td>\n",
       "      <td>2.400000</td>\n",
       "      <td>NaN</td>\n",
       "    </tr>\n",
       "    <tr>\n",
       "      <th>25%</th>\n",
       "      <td>351.0</td>\n",
       "      <td>6127.0</td>\n",
       "      <td>21030.0</td>\n",
       "      <td>2005.250000</td>\n",
       "      <td>2005.250000</td>\n",
       "      <td>3.550000</td>\n",
       "      <td>NaN</td>\n",
       "    </tr>\n",
       "    <tr>\n",
       "      <th>50%</th>\n",
       "      <td>351.0</td>\n",
       "      <td>6127.0</td>\n",
       "      <td>21030.0</td>\n",
       "      <td>2010.500000</td>\n",
       "      <td>2010.500000</td>\n",
       "      <td>4.600000</td>\n",
       "      <td>NaN</td>\n",
       "    </tr>\n",
       "    <tr>\n",
       "      <th>75%</th>\n",
       "      <td>351.0</td>\n",
       "      <td>6127.0</td>\n",
       "      <td>21030.0</td>\n",
       "      <td>2015.750000</td>\n",
       "      <td>2015.750000</td>\n",
       "      <td>5.450000</td>\n",
       "      <td>NaN</td>\n",
       "    </tr>\n",
       "    <tr>\n",
       "      <th>max</th>\n",
       "      <td>351.0</td>\n",
       "      <td>6127.0</td>\n",
       "      <td>21030.0</td>\n",
       "      <td>2021.000000</td>\n",
       "      <td>2021.000000</td>\n",
       "      <td>8.000000</td>\n",
       "      <td>NaN</td>\n",
       "    </tr>\n",
       "  </tbody>\n",
       "</table>\n",
       "</div>"
      ],
      "text/plain": [
       "       Area Code  Element Code  Item Code    Year Code         Year  \\\n",
       "count       22.0          22.0       22.0    22.000000    22.000000   \n",
       "mean       351.0        6127.0    21030.0  2010.500000  2010.500000   \n",
       "std          0.0           0.0        0.0     6.493587     6.493587   \n",
       "min        351.0        6127.0    21030.0  2000.000000  2000.000000   \n",
       "25%        351.0        6127.0    21030.0  2005.250000  2005.250000   \n",
       "50%        351.0        6127.0    21030.0  2010.500000  2010.500000   \n",
       "75%        351.0        6127.0    21030.0  2015.750000  2015.750000   \n",
       "max        351.0        6127.0    21030.0  2021.000000  2021.000000   \n",
       "\n",
       "           Value  Note  \n",
       "count  19.000000   0.0  \n",
       "mean    4.573684   NaN  \n",
       "std     1.504010   NaN  \n",
       "min     2.400000   NaN  \n",
       "25%     3.550000   NaN  \n",
       "50%     4.600000   NaN  \n",
       "75%     5.450000   NaN  \n",
       "max     8.000000   NaN  "
      ]
     },
     "execution_count": 3,
     "metadata": {},
     "output_type": "execute_result"
    }
   ],
   "source": [
    "ass.describe()"
   ]
  },
  {
   "cell_type": "code",
   "execution_count": 4,
   "metadata": {},
   "outputs": [
    {
     "data": {
      "text/html": [
       "<div>\n",
       "<style scoped>\n",
       "    .dataframe tbody tr th:only-of-type {\n",
       "        vertical-align: middle;\n",
       "    }\n",
       "\n",
       "    .dataframe tbody tr th {\n",
       "        vertical-align: top;\n",
       "    }\n",
       "\n",
       "    .dataframe thead th {\n",
       "        text-align: right;\n",
       "    }\n",
       "</style>\n",
       "<table border=\"1\" class=\"dataframe\">\n",
       "  <thead>\n",
       "    <tr style=\"text-align: right;\">\n",
       "      <th></th>\n",
       "      <th>Domain</th>\n",
       "      <th>Area</th>\n",
       "      <th>Element Code</th>\n",
       "      <th>Element</th>\n",
       "      <th>Item Code</th>\n",
       "      <th>Item</th>\n",
       "      <th>Year Code</th>\n",
       "      <th>Year</th>\n",
       "      <th>Unit</th>\n",
       "      <th>Value</th>\n",
       "      <th>Flag</th>\n",
       "      <th>Flag Description</th>\n",
       "      <th>Note</th>\n",
       "    </tr>\n",
       "  </thead>\n",
       "  <tbody>\n",
       "    <tr>\n",
       "      <th>0</th>\n",
       "      <td>Suite of Food Security Indicators</td>\n",
       "      <td>China</td>\n",
       "      <td>6127</td>\n",
       "      <td>Value</td>\n",
       "      <td>21030</td>\n",
       "      <td>Per capita food production variability (consta...</td>\n",
       "      <td>2000</td>\n",
       "      <td>2000</td>\n",
       "      <td>1000 I$</td>\n",
       "      <td>NaN</td>\n",
       "      <td>O</td>\n",
       "      <td>Missing value</td>\n",
       "      <td>NaN</td>\n",
       "    </tr>\n",
       "    <tr>\n",
       "      <th>1</th>\n",
       "      <td>Suite of Food Security Indicators</td>\n",
       "      <td>China</td>\n",
       "      <td>6127</td>\n",
       "      <td>Value</td>\n",
       "      <td>21030</td>\n",
       "      <td>Per capita food production variability (consta...</td>\n",
       "      <td>2001</td>\n",
       "      <td>2001</td>\n",
       "      <td>1000 I$</td>\n",
       "      <td>8.0</td>\n",
       "      <td>E</td>\n",
       "      <td>Estimated value</td>\n",
       "      <td>NaN</td>\n",
       "    </tr>\n",
       "    <tr>\n",
       "      <th>2</th>\n",
       "      <td>Suite of Food Security Indicators</td>\n",
       "      <td>China</td>\n",
       "      <td>6127</td>\n",
       "      <td>Value</td>\n",
       "      <td>21030</td>\n",
       "      <td>Per capita food production variability (consta...</td>\n",
       "      <td>2002</td>\n",
       "      <td>2002</td>\n",
       "      <td>1000 I$</td>\n",
       "      <td>5.8</td>\n",
       "      <td>E</td>\n",
       "      <td>Estimated value</td>\n",
       "      <td>NaN</td>\n",
       "    </tr>\n",
       "    <tr>\n",
       "      <th>3</th>\n",
       "      <td>Suite of Food Security Indicators</td>\n",
       "      <td>China</td>\n",
       "      <td>6127</td>\n",
       "      <td>Value</td>\n",
       "      <td>21030</td>\n",
       "      <td>Per capita food production variability (consta...</td>\n",
       "      <td>2003</td>\n",
       "      <td>2003</td>\n",
       "      <td>1000 I$</td>\n",
       "      <td>3.5</td>\n",
       "      <td>E</td>\n",
       "      <td>Estimated value</td>\n",
       "      <td>NaN</td>\n",
       "    </tr>\n",
       "    <tr>\n",
       "      <th>4</th>\n",
       "      <td>Suite of Food Security Indicators</td>\n",
       "      <td>China</td>\n",
       "      <td>6127</td>\n",
       "      <td>Value</td>\n",
       "      <td>21030</td>\n",
       "      <td>Per capita food production variability (consta...</td>\n",
       "      <td>2004</td>\n",
       "      <td>2004</td>\n",
       "      <td>1000 I$</td>\n",
       "      <td>6.5</td>\n",
       "      <td>E</td>\n",
       "      <td>Estimated value</td>\n",
       "      <td>NaN</td>\n",
       "    </tr>\n",
       "  </tbody>\n",
       "</table>\n",
       "</div>"
      ],
      "text/plain": [
       "                              Domain   Area  Element Code Element  Item Code  \\\n",
       "0  Suite of Food Security Indicators  China          6127   Value      21030   \n",
       "1  Suite of Food Security Indicators  China          6127   Value      21030   \n",
       "2  Suite of Food Security Indicators  China          6127   Value      21030   \n",
       "3  Suite of Food Security Indicators  China          6127   Value      21030   \n",
       "4  Suite of Food Security Indicators  China          6127   Value      21030   \n",
       "\n",
       "                                                Item  Year Code  Year  \\\n",
       "0  Per capita food production variability (consta...       2000  2000   \n",
       "1  Per capita food production variability (consta...       2001  2001   \n",
       "2  Per capita food production variability (consta...       2002  2002   \n",
       "3  Per capita food production variability (consta...       2003  2003   \n",
       "4  Per capita food production variability (consta...       2004  2004   \n",
       "\n",
       "      Unit  Value Flag Flag Description  Note  \n",
       "0  1000 I$    NaN    O    Missing value   NaN  \n",
       "1  1000 I$    8.0    E  Estimated value   NaN  \n",
       "2  1000 I$    5.8    E  Estimated value   NaN  \n",
       "3  1000 I$    3.5    E  Estimated value   NaN  \n",
       "4  1000 I$    6.5    E  Estimated value   NaN  "
      ]
     },
     "execution_count": 4,
     "metadata": {},
     "output_type": "execute_result"
    }
   ],
   "source": [
    "new_ass = ass.drop(['Domain Code','Area Code'], axis=1)              # dropping few columns to make a new dataset\n",
    "new_ass.head()"
   ]
  },
  {
   "cell_type": "code",
   "execution_count": 5,
   "metadata": {},
   "outputs": [
    {
     "name": "stderr",
     "output_type": "stream",
     "text": [
      "C:\\Users\\Me\\AppData\\Local\\Temp\\ipykernel_6192\\1483967947.py:1: FutureWarning: The default value of numeric_only in DataFrame.mean is deprecated. In a future version, it will default to False. In addition, specifying 'numeric_only=None' is deprecated. Select only valid columns or specify the value of numeric_only to silence this warning.\n",
      "  ass.mean()\n"
     ]
    },
    {
     "data": {
      "text/plain": [
       "Area Code         351.000000\n",
       "Element Code     6127.000000\n",
       "Item Code       21030.000000\n",
       "Year Code        2010.500000\n",
       "Year             2010.500000\n",
       "Value               4.573684\n",
       "Note                     NaN\n",
       "dtype: float64"
      ]
     },
     "execution_count": 5,
     "metadata": {},
     "output_type": "execute_result"
    }
   ],
   "source": [
    "ass.mean()"
   ]
  },
  {
   "cell_type": "code",
   "execution_count": 6,
   "metadata": {},
   "outputs": [
    {
     "data": {
      "text/html": [
       "<div>\n",
       "<style scoped>\n",
       "    .dataframe tbody tr th:only-of-type {\n",
       "        vertical-align: middle;\n",
       "    }\n",
       "\n",
       "    .dataframe tbody tr th {\n",
       "        vertical-align: top;\n",
       "    }\n",
       "\n",
       "    .dataframe thead th {\n",
       "        text-align: right;\n",
       "    }\n",
       "</style>\n",
       "<table border=\"1\" class=\"dataframe\">\n",
       "  <thead>\n",
       "    <tr style=\"text-align: right;\">\n",
       "      <th></th>\n",
       "      <th>Domain Code</th>\n",
       "      <th>Domain</th>\n",
       "      <th>Area Code</th>\n",
       "      <th>Area</th>\n",
       "      <th>Element Code</th>\n",
       "      <th>Element</th>\n",
       "      <th>Item Code</th>\n",
       "      <th>Item</th>\n",
       "      <th>Year Code</th>\n",
       "      <th>Year</th>\n",
       "      <th>Unit</th>\n",
       "      <th>Value</th>\n",
       "      <th>Flag</th>\n",
       "      <th>Flag Description</th>\n",
       "      <th>Note</th>\n",
       "    </tr>\n",
       "  </thead>\n",
       "  <tbody>\n",
       "    <tr>\n",
       "      <th>0</th>\n",
       "      <td>FS</td>\n",
       "      <td>Suite of Food Security Indicators</td>\n",
       "      <td>351</td>\n",
       "      <td>China</td>\n",
       "      <td>6127</td>\n",
       "      <td>Value</td>\n",
       "      <td>21030</td>\n",
       "      <td>Per capita food production variability (consta...</td>\n",
       "      <td>2000</td>\n",
       "      <td>2000</td>\n",
       "      <td>1000 I$</td>\n",
       "      <td>NaN</td>\n",
       "      <td>O</td>\n",
       "      <td>Missing value</td>\n",
       "      <td>NaN</td>\n",
       "    </tr>\n",
       "    <tr>\n",
       "      <th>1</th>\n",
       "      <td>FS</td>\n",
       "      <td>Suite of Food Security Indicators</td>\n",
       "      <td>351</td>\n",
       "      <td>China</td>\n",
       "      <td>6127</td>\n",
       "      <td>Value</td>\n",
       "      <td>21030</td>\n",
       "      <td>Per capita food production variability (consta...</td>\n",
       "      <td>2001</td>\n",
       "      <td>2001</td>\n",
       "      <td>1000 I$</td>\n",
       "      <td>8.0</td>\n",
       "      <td>E</td>\n",
       "      <td>Estimated value</td>\n",
       "      <td>NaN</td>\n",
       "    </tr>\n",
       "  </tbody>\n",
       "</table>\n",
       "</div>"
      ],
      "text/plain": [
       "  Domain Code                             Domain  Area Code   Area  \\\n",
       "0          FS  Suite of Food Security Indicators        351  China   \n",
       "1          FS  Suite of Food Security Indicators        351  China   \n",
       "\n",
       "   Element Code Element  Item Code  \\\n",
       "0          6127   Value      21030   \n",
       "1          6127   Value      21030   \n",
       "\n",
       "                                                Item  Year Code  Year  \\\n",
       "0  Per capita food production variability (consta...       2000  2000   \n",
       "1  Per capita food production variability (consta...       2001  2001   \n",
       "\n",
       "      Unit  Value Flag Flag Description  Note  \n",
       "0  1000 I$    NaN    O    Missing value   NaN  \n",
       "1  1000 I$    8.0    E  Estimated value   NaN  "
      ]
     },
     "execution_count": 6,
     "metadata": {},
     "output_type": "execute_result"
    }
   ],
   "source": [
    "ass.head(2)"
   ]
  },
  {
   "cell_type": "markdown",
   "metadata": {},
   "source": [
    "> **Line Plots**"
   ]
  },
  {
   "cell_type": "code",
   "execution_count": 7,
   "metadata": {},
   "outputs": [
    {
     "data": {
      "image/png": "[encoded data removed]",
      "text/plain": [
       "<Figure size 640x480 with 1 Axes>"
      ]
     },
     "metadata": {},
     "output_type": "display_data"
    },
    {
     "data": {
      "text/plain": [
       "<Figure size 800x600 with 0 Axes>"
      ]
     },
     "metadata": {},
     "output_type": "display_data"
    }
   ],
   "source": [
    "ass = pd.read_csv(\"assignment_data.csv\")\n",
    "sns.lineplot(x=\"Year\", y=\"Value\", data=ass)\n",
    "plt.title(\"Values Over the Years\")\n",
    "sns.set_style(\"darkgrid\")\n",
    "plt.figure(figsize=(8,6))\n",
    "plt.show()"
   ]
  },
  {
   "cell_type": "code",
   "execution_count": 8,
   "metadata": {},
   "outputs": [
    {
     "data": {
      "text/html": [
       "<div>\n",
       "<style scoped>\n",
       "    .dataframe tbody tr th:only-of-type {\n",
       "        vertical-align: middle;\n",
       "    }\n",
       "\n",
       "    .dataframe tbody tr th {\n",
       "        vertical-align: top;\n",
       "    }\n",
       "\n",
       "    .dataframe thead th {\n",
       "        text-align: right;\n",
       "    }\n",
       "</style>\n",
       "<table border=\"1\" class=\"dataframe\">\n",
       "  <thead>\n",
       "    <tr style=\"text-align: right;\">\n",
       "      <th></th>\n",
       "      <th>Domain Code</th>\n",
       "      <th>Domain</th>\n",
       "      <th>Area Code</th>\n",
       "      <th>Area</th>\n",
       "      <th>Element Code</th>\n",
       "      <th>Element</th>\n",
       "      <th>Item Code</th>\n",
       "      <th>Item</th>\n",
       "      <th>Year Code</th>\n",
       "      <th>Year</th>\n",
       "      <th>Unit</th>\n",
       "      <th>Value</th>\n",
       "      <th>Flag</th>\n",
       "      <th>Flag Description</th>\n",
       "    </tr>\n",
       "  </thead>\n",
       "  <tbody>\n",
       "    <tr>\n",
       "      <th>0</th>\n",
       "      <td>QCL</td>\n",
       "      <td>Crops and livestock products</td>\n",
       "      <td>106</td>\n",
       "      <td>Italy</td>\n",
       "      <td>5312</td>\n",
       "      <td>Area harvested</td>\n",
       "      <td>1717</td>\n",
       "      <td>Cereals, Total</td>\n",
       "      <td>1961</td>\n",
       "      <td>1961</td>\n",
       "      <td>ha</td>\n",
       "      <td>6387203</td>\n",
       "      <td>E</td>\n",
       "      <td>Estimated value</td>\n",
       "    </tr>\n",
       "    <tr>\n",
       "      <th>1</th>\n",
       "      <td>QCL</td>\n",
       "      <td>Crops and livestock products</td>\n",
       "      <td>106</td>\n",
       "      <td>Italy</td>\n",
       "      <td>5419</td>\n",
       "      <td>Yield</td>\n",
       "      <td>1717</td>\n",
       "      <td>Cereals, Total</td>\n",
       "      <td>1961</td>\n",
       "      <td>1961</td>\n",
       "      <td>hg/ha</td>\n",
       "      <td>21815</td>\n",
       "      <td>E</td>\n",
       "      <td>Estimated value</td>\n",
       "    </tr>\n",
       "  </tbody>\n",
       "</table>\n",
       "</div>"
      ],
      "text/plain": [
       "  Domain Code                        Domain  Area Code   Area  Element Code  \\\n",
       "0         QCL  Crops and livestock products        106  Italy          5312   \n",
       "1         QCL  Crops and livestock products        106  Italy          5419   \n",
       "\n",
       "          Element  Item Code            Item  Year Code  Year   Unit    Value  \\\n",
       "0  Area harvested       1717  Cereals, Total       1961  1961     ha  6387203   \n",
       "1           Yield       1717  Cereals, Total       1961  1961  hg/ha    21815   \n",
       "\n",
       "  Flag Flag Description  \n",
       "0    E  Estimated value  \n",
       "1    E  Estimated value  "
      ]
     },
     "execution_count": 8,
     "metadata": {},
     "output_type": "execute_result"
    }
   ],
   "source": [
    "ass2 = pd.read_csv(\"ass_data2.csv\")\n",
    "ass2.head(2)"
   ]
  },
  {
   "cell_type": "code",
   "execution_count": 9,
   "metadata": {},
   "outputs": [
    {
     "data": {
      "image/png": "[encoded data removed]",
      "text/plain": [
       "<Figure size 640x480 with 1 Axes>"
      ]
     },
     "metadata": {},
     "output_type": "display_data"
    }
   ],
   "source": [
    "ass2 = pd.read_csv(\"ass_data2.csv\")\n",
    "\n",
    "# draw a bar plot\n",
    "sns.barplot(x=\"Element\", y=\"Year\", hue=\"Unit\", data=ass2)\n",
    "plt.title(\"Values Over the Years\")\n",
    "plt.show()"
   ]
  },
  {
   "cell_type": "code",
   "execution_count": 10,
   "metadata": {},
   "outputs": [
    {
     "data": {
      "text/plain": [
       "<AxesSubplot:xlabel='Element', ylabel='Value'>"
      ]
     },
     "execution_count": 10,
     "metadata": {},
     "output_type": "execute_result"
    },
    {
     "data": {
      "image/png": "[encoded data removed]",
      "text/plain": [
       "<Figure size 640x480 with 1 Axes>"
      ]
     },
     "metadata": {},
     "output_type": "display_data"
    }
   ],
   "source": [
    "import numpy as np  \n",
    "# draw a bar plot\n",
    "sns.barplot(x=\"Element\", y=\"Value\", hue=\"Unit\", data=ass2, color=\"red\",\n",
    "           palette=\"bright\", saturation=5.2)"
   ]
  },
  {
   "cell_type": "code",
   "execution_count": 11,
   "metadata": {},
   "outputs": [
    {
     "data": {
      "text/plain": [
       "<AxesSubplot:xlabel='Year', ylabel='Value'>"
      ]
     },
     "execution_count": 11,
     "metadata": {},
     "output_type": "execute_result"
    },
    {
     "data": {
      "image/png": "[encoded data removed]",
      "text/plain": [
       "<Figure size 2600x600 with 1 Axes>"
      ]
     },
     "metadata": {},
     "output_type": "display_data"
    }
   ],
   "source": [
    "# Draw boxplot\n",
    "plt.figure(figsize=(26,6))\n",
    "sns.boxplot(x=\"Year\", y=\"Value\", data=ass2)\n"
   ]
  },
  {
   "cell_type": "code",
   "execution_count": 12,
   "metadata": {},
   "outputs": [],
   "source": [
    "changes = pd.read_csv(\"temp_change.csv\")\n"
   ]
  },
  {
   "cell_type": "code",
   "execution_count": 13,
   "metadata": {},
   "outputs": [
    {
     "data": {
      "application/vnd.plotly.v1+json": {
       "config": {
        "plotlyServerURL": "https://plot.ly"
       },
       "data": [
        {
         "alignmentgroup": "True",
         "hovertemplate": "Months=Meteorological year<br>Element=Standard Deviation<br>Area=%{x}<br>Value=%{y}<br>Year=%{marker.color}<extra></extra>",
         "legendgroup": "",
         "marker": {
          "color": [
           1961,
           1961,
           1961,
           1962,
           1962,
           1962,
           1963,
           1963,
           1963,
           1964,
           1964,
           1964,
           1965,
           1965,
           1965,
           1966,
           1966,
           1966,
           1967,
           1967,
           1967,
           1968,
           1968,
           1968,
           1969,
           1969,
           1969,
           1970,
           1970,
           1970,
           1971,
           1971,
           1971,
           1972,
           1972,
           1972,
           1973,
           1973,
           1973,
           1974,
           1974,
           1974,
           1975,
           1975,
           1975,
           1976,
           1976,
           1976,
           1977,
           1977,
           1977,
           1978,
           1978,
           1978,
           1979,
           1979,
           1979,
           1980,
           1980,
           1980,
           1981,
           1981,
           1981,
           1982,
           1982,
           1982,
           1983,
           1983,
           1983,
           1984,
           1984,
           1984,
           1985,
           1985,
           1985,
           1986,
           1986,
           1986,
           1987,
           1987,
           1987,
           1988,
           1988,
           1988,
           1989,
           1989,
           1989,
           1990,
           1990,
           1990,
           1991,
           1991,
           1991,
           1992,
           1992,
           1992,
           1993,
           1993,
           1993,
           1994,
           1994,
           1994,
           1995,
           1995,
           1995,
           1996,
           1996,
           1996,
           1997,
           1997,
           1997,
           1998,
           1998,
           1998,
           1999,
           1999,
           1999,
           2000,
           2000,
           2000,
           2001,
           2001,
           2001,
           2002,
           2002,
           2002,
           2003,
           2003,
           2003,
           2004,
           2004,
           2004,
           2005,
           2005,
           2005,
           2006,
           2006,
           2006,
           2007,
           2007,
           2007,
           2008,
           2008,
           2008,
           2009,
           2009,
           2009,
           2010,
           2010,
           2010,
           2011,
           2011,
           2011,
           2012,
           2012,
           2012,
           2013,
           2013,
           2013,
           2014,
           2014,
           2014,
           2015,
           2015,
           2015,
           2016,
           2016,
           2016,
           2017,
           2017,
           2017,
           2018,
           2018,
           2018,
           2019,
           2019,
           2019,
           2020,
           2020,
           2020
          ],
          "coloraxis": "coloraxis",
          "pattern": {
           "shape": ""
          }
         },
         "name": "",
         "offsetgroup": "",
         "orientation": "v",
         "showlegend": false,
         "textposition": "auto",
         "type": "bar",
         "x": [
          "India",
          "Pakistan",
          "China",
          "China",
          "Pakistan",
          "India",
          "India",
          "Pakistan",
          "China",
          "China",
          "Pakistan",
          "India",
          "India",
          "Pakistan",
          "China",
          "China",
          "Pakistan",
          "India",
          "India",
          "Pakistan",
          "China",
          "China",
          "Pakistan",
          "India",
          "India",
          "Pakistan",
          "China",
          "China",
          "Pakistan",
          "India",
          "India",
          "Pakistan",
          "China",
          "China",
          "Pakistan",
          "India",
          "India",
          "Pakistan",
          "China",
          "China",
          "Pakistan",
          "India",
          "India",
          "Pakistan",
          "China",
          "China",
          "Pakistan",
          "India",
          "India",
          "Pakistan",
          "China",
          "China",
          "Pakistan",
          "India",
          "India",
          "Pakistan",
          "China",
          "China",
          "Pakistan",
          "India",
          "India",
          "Pakistan",
          "China",
          "China",
          "Pakistan",
          "India",
          "India",
          "Pakistan",
          "China",
          "China",
          "Pakistan",
          "India",
          "India",
          "Pakistan",
          "China",
          "China",
          "Pakistan",
          "India",
          "India",
          "Pakistan",
          "China",
          "China",
          "Pakistan",
          "India",
          "India",
          "Pakistan",
          "China",
          "China",
          "Pakistan",
          "India",
          "India",
          "Pakistan",
          "China",
          "China",
          "Pakistan",
          "India",
          "India",
          "Pakistan",
          "China",
          "China",
          "Pakistan",
          "India",
          "India",
          "Pakistan",
          "China",
          "China",
          "Pakistan",
          "India",
          "India",
          "Pakistan",
          "China",
          "China",
          "Pakistan",
          "India",
          "India",
          "Pakistan",
          "China",
          "China",
          "Pakistan",
          "India",
          "India",
          "Pakistan",
          "China",
          "China",
          "Pakistan",
          "India",
          "India",
          "Pakistan",
          "China",
          "China",
          "Pakistan",
          "India",
          "India",
          "Pakistan",
          "China",
          "China",
          "Pakistan",
          "India",
          "India",
          "Pakistan",
          "China",
          "China",
          "Pakistan",
          "India",
          "India",
          "Pakistan",
          "China",
          "China",
          "Pakistan",
          "India",
          "India",
          "Pakistan",
          "China",
          "China",
          "Pakistan",
          "India",
          "India",
          "Pakistan",
          "China",
          "China",
          "Pakistan",
          "India",
          "India",
          "Pakistan",
          "China",
          "China",
          "Pakistan",
          "India",
          "India",
          "Pakistan",
          "China",
          "China",
          "Pakistan",
          "India",
          "India",
          "Pakistan",
          "China",
          "China",
          "Pakistan",
          "India"
         ],
         "xaxis": "x",
         "y": [
          0.247,
          0.369,
          0.252,
          0.252,
          0.369,
          0.247,
          0.247,
          0.369,
          0.252,
          0.252,
          0.369,
          0.247,
          0.247,
          0.369,
          0.252,
          0.252,
          0.369,
          0.247,
          0.247,
          0.369,
          0.252,
          0.252,
          0.369,
          0.247,
          0.247,
          0.369,
          0.252,
          0.252,
          0.369,
          0.247,
          0.247,
          0.369,
          0.252,
          0.252,
          0.369,
          0.247,
          0.247,
          0.369,
          0.252,
          0.252,
          0.369,
          0.247,
          0.247,
          0.369,
          0.252,
          0.252,
          0.369,
          0.247,
          0.247,
          0.369,
          0.252,
          0.252,
          0.369,
          0.247,
          0.247,
          0.369,
          0.252,
          0.252,
          0.369,
          0.247,
          0.247,
          0.369,
          0.252,
          0.252,
          0.369,
          0.247,
          0.247,
          0.369,
          0.252,
          0.252,
          0.369,
          0.247,
          0.247,
          0.369,
          0.252,
          0.252,
          0.369,
          0.247,
          0.247,
          0.369,
          0.252,
          0.252,
          0.369,
          0.247,
          0.247,
          0.369,
          0.252,
          0.252,
          0.369,
          0.247,
          0.247,
          0.369,
          0.252,
          0.252,
          0.369,
          0.247,
          0.247,
          0.369,
          0.252,
          0.252,
          0.369,
          0.247,
          0.247,
          0.369,
          0.252,
          0.252,
          0.369,
          0.247,
          0.247,
          0.369,
          0.252,
          0.252,
          0.369,
          0.247,
          0.247,
          0.369,
          0.252,
          0.252,
          0.369,
          0.247,
          0.247,
          0.369,
          0.252,
          0.252,
          0.369,
          0.247,
          0.247,
          0.369,
          0.252,
          0.252,
          0.369,
          0.247,
          0.247,
          0.369,
          0.252,
          0.252,
          0.369,
          0.247,
          0.247,
          0.369,
          0.252,
          0.252,
          0.369,
          0.247,
          0.247,
          0.369,
          0.252,
          0.252,
          0.369,
          0.247,
          0.247,
          0.369,
          0.252,
          0.252,
          0.369,
          0.247,
          0.247,
          0.369,
          0.252,
          0.252,
          0.369,
          0.247,
          0.247,
          0.369,
          0.252,
          0.252,
          0.369,
          0.247,
          0.247,
          0.369,
          0.252,
          0.252,
          0.369,
          0.247,
          0.247,
          0.369,
          0.252,
          0.252,
          0.369,
          0.247
         ],
         "yaxis": "y"
        },
        {
         "alignmentgroup": "True",
         "hovertemplate": "Months=Meteorological year<br>Element=Temperature change<br>Area=%{x}<br>Value=%{y}<br>Year=%{marker.color}<extra></extra>",
         "legendgroup": "",
         "marker": {
          "color": [
           1961,
           1961,
           1961,
           1962,
           1962,
           1962,
           1963,
           1963,
           1963,
           1964,
           1964,
           1964,
           1965,
           1965,
           1965,
           1966,
           1966,
           1966,
           1967,
           1967,
           1967,
           1968,
           1968,
           1968,
           1969,
           1969,
           1969,
           1970,
           1970,
           1970,
           1971,
           1971,
           1971,
           1972,
           1972,
           1972,
           1973,
           1973,
           1973,
           1974,
           1974,
           1974,
           1975,
           1975,
           1975,
           1976,
           1976,
           1976,
           1977,
           1977,
           1977,
           1978,
           1978,
           1978,
           1979,
           1979,
           1979,
           1980,
           1980,
           1980,
           1981,
           1981,
           1981,
           1982,
           1982,
           1982,
           1983,
           1983,
           1983,
           1984,
           1984,
           1984,
           1985,
           1985,
           1985,
           1986,
           1986,
           1986,
           1987,
           1987,
           1987,
           1988,
           1988,
           1988,
           1989,
           1989,
           1989,
           1990,
           1990,
           1990,
           1991,
           1991,
           1991,
           1992,
           1992,
           1992,
           1993,
           1993,
           1993,
           1994,
           1994,
           1994,
           1995,
           1995,
           1995,
           1996,
           1996,
           1996,
           1997,
           1997,
           1997,
           1998,
           1998,
           1998,
           1999,
           1999,
           1999,
           2000,
           2000,
           2000,
           2001,
           2001,
           2001,
           2002,
           2002,
           2002,
           2003,
           2003,
           2003,
           2004,
           2004,
           2004,
           2005,
           2005,
           2005,
           2006,
           2006,
           2006,
           2007,
           2007,
           2007,
           2008,
           2008,
           2008,
           2009,
           2009,
           2009,
           2010,
           2010,
           2010,
           2011,
           2011,
           2011,
           2012,
           2012,
           2012,
           2013,
           2013,
           2013,
           2014,
           2014,
           2014,
           2015,
           2015,
           2015,
           2016,
           2016,
           2016,
           2017,
           2017,
           2017,
           2018,
           2018,
           2018,
           2019,
           2019,
           2019,
           2020,
           2020,
           2020
          ],
          "coloraxis": "coloraxis",
          "pattern": {
           "shape": ""
          }
         },
         "name": "",
         "offsetgroup": "",
         "orientation": "v",
         "showlegend": false,
         "textposition": "auto",
         "type": "bar",
         "x": [
          "India",
          "Pakistan",
          "China",
          "China",
          "Pakistan",
          "India",
          "India",
          "Pakistan",
          "China",
          "China",
          "Pakistan",
          "India",
          "India",
          "Pakistan",
          "China",
          "China",
          "Pakistan",
          "India",
          "India",
          "Pakistan",
          "China",
          "China",
          "Pakistan",
          "India",
          "India",
          "Pakistan",
          "China",
          "China",
          "Pakistan",
          "India",
          "India",
          "Pakistan",
          "China",
          "China",
          "Pakistan",
          "India",
          "India",
          "Pakistan",
          "China",
          "China",
          "Pakistan",
          "India",
          "India",
          "Pakistan",
          "China",
          "China",
          "Pakistan",
          "India",
          "India",
          "Pakistan",
          "China",
          "China",
          "Pakistan",
          "India",
          "India",
          "Pakistan",
          "China",
          "China",
          "Pakistan",
          "India",
          "India",
          "Pakistan",
          "China",
          "China",
          "Pakistan",
          "India",
          "India",
          "Pakistan",
          "China",
          "China",
          "Pakistan",
          "India",
          "India",
          "Pakistan",
          "China",
          "China",
          "Pakistan",
          "India",
          "India",
          "Pakistan",
          "China",
          "China",
          "Pakistan",
          "India",
          "India",
          "Pakistan",
          "China",
          "China",
          "Pakistan",
          "India",
          "India",
          "Pakistan",
          "China",
          "China",
          "Pakistan",
          "India",
          "India",
          "Pakistan",
          "China",
          "China",
          "Pakistan",
          "India",
          "India",
          "Pakistan",
          "China",
          "China",
          "Pakistan",
          "India",
          "India",
          "Pakistan",
          "China",
          "China",
          "Pakistan",
          "India",
          "India",
          "Pakistan",
          "China",
          "China",
          "Pakistan",
          "India",
          "India",
          "Pakistan",
          "China",
          "China",
          "Pakistan",
          "India",
          "India",
          "Pakistan",
          "China",
          "China",
          "Pakistan",
          "India",
          "India",
          "Pakistan",
          "China",
          "China",
          "Pakistan",
          "India",
          "India",
          "Pakistan",
          "China",
          "China",
          "Pakistan",
          "India",
          "India",
          "Pakistan",
          "China",
          "China",
          "Pakistan",
          "India",
          "India",
          "Pakistan",
          "China",
          "China",
          "Pakistan",
          "India",
          "India",
          "Pakistan",
          "China",
          "China",
          "Pakistan",
          "India",
          "India",
          "Pakistan",
          "China",
          "China",
          "Pakistan",
          "India",
          "India",
          "Pakistan",
          "China",
          "China",
          "Pakistan",
          "India",
          "India",
          "Pakistan",
          "China",
          "China",
          "Pakistan",
          "India"
         ],
         "xaxis": "x2",
         "y": [
          -0.218,
          -0.276,
          0.257,
          -0.142,
          -0.256,
          -0.492,
          -0.021,
          0.41,
          0.286,
          -0.027,
          -0.37,
          -0.032,
          -0.074,
          -0.276,
          0.075,
          0.18,
          -0.141,
          0.297,
          -0.204,
          -0.31,
          -0.285,
          -0.416,
          -0.466,
          -0.22,
          0.322,
          0.263,
          -0.219,
          -0.309,
          0.583,
          0.059,
          -0.47,
          0.223,
          0.035,
          0.01,
          -0.456,
          0.04,
          0.296,
          0.126,
          0.41,
          -0.007,
          -0.163,
          0.012,
          -0.324,
          -0.553,
          0.28,
          -0.39,
          -0.25,
          -0.005,
          0.152,
          0.409,
          -0.056,
          0.241,
          0.012,
          -0.169,
          0.299,
          -0.025,
          0.299,
          0.253,
          0.45,
          0.391,
          0.05,
          0.336,
          0.22,
          0.38,
          -0.342,
          -0.038,
          -0.177,
          -0.382,
          0.125,
          -0.146,
          -0.187,
          -0.15,
          0.153,
          0.218,
          -0.121,
          -0.04,
          -0.273,
          0.142,
          0.542,
          0.208,
          0.43,
          0.397,
          0.748,
          0.477,
          -0.039,
          -0.291,
          0.422,
          0.844,
          0.426,
          -0.101,
          0.16,
          -0.226,
          0.51,
          0.112,
          -0.375,
          0.007,
          0.176,
          0.442,
          0.265,
          0.717,
          0.203,
          0.059,
          0.191,
          -0.08,
          0.56,
          0.195,
          -0.137,
          0.295,
          -0.109,
          -0.35,
          0.717,
          1.246,
          0.489,
          0.559,
          0.424,
          0.846,
          1.21,
          0.553,
          0.698,
          0.309,
          0.441,
          0.752,
          1.019,
          1.112,
          0.984,
          0.796,
          0.633,
          0.493,
          0.8,
          1.082,
          1.018,
          0.533,
          0.545,
          0.233,
          1.02,
          1.203,
          1.057,
          0.625,
          0.579,
          0.71,
          1.508,
          1.061,
          0.412,
          0.237,
          1.131,
          1.048,
          1.309,
          0.94,
          1.283,
          1.113,
          0.336,
          0.831,
          0.761,
          0.595,
          0.242,
          0.486,
          0.434,
          0.81,
          1.048,
          1.043,
          0.42,
          0.522,
          0.68,
          0.576,
          1.277,
          1.304,
          1.281,
          1.074,
          0.982,
          1.312,
          1.565,
          1.349,
          1.423,
          0.884,
          0.809,
          0.648,
          1.413,
          1.637,
          0.432,
          0.518
         ],
         "yaxis": "y2"
        }
       ],
       "layout": {
        "annotations": [
         {
          "font": {},
          "showarrow": false,
          "text": "Element=Standard Deviation",
          "x": 0.24,
          "xanchor": "center",
          "xref": "paper",
          "y": 1,
          "yanchor": "bottom",
          "yref": "paper"
         },
         {
          "font": {},
          "showarrow": false,
          "text": "Element=Temperature change",
          "x": 0.74,
          "xanchor": "center",
          "xref": "paper",
          "y": 1,
          "yanchor": "bottom",
          "yref": "paper"
         },
         {
          "font": {},
          "showarrow": false,
          "text": "Months=Meteorological year",
          "textangle": 90,
          "x": 0.98,
          "xanchor": "left",
          "xref": "paper",
          "y": 0.5,
          "yanchor": "middle",
          "yref": "paper"
         }
        ],
        "barmode": "group",
        "coloraxis": {
         "colorbar": {
          "title": {
           "text": "Year"
          }
         },
         "colorscale": [
          [
           0,
           "#0d0887"
          ],
          [
           0.1111111111111111,
           "#46039f"
          ],
          [
           0.2222222222222222,
           "#7201a8"
          ],
          [
           0.3333333333333333,
           "#9c179e"
          ],
          [
           0.4444444444444444,
           "#bd3786"
          ],
          [
           0.5555555555555556,
           "#d8576b"
          ],
          [
           0.6666666666666666,
           "#ed7953"
          ],
          [
           0.7777777777777778,
           "#fb9f3a"
          ],
          [
           0.8888888888888888,
           "#fdca26"
          ],
          [
           1,
           "#f0f921"
          ]
         ]
        },
        "legend": {
         "tracegroupgap": 0
        },
        "margin": {
         "t": 60
        },
        "template": {
         "data": {
          "bar": [
           {
            "error_x": {
             "color": "#2a3f5f"
            },
            "error_y": {
             "color": "#2a3f5f"
            },
            "marker": {
             "line": {
              "color": "#E5ECF6",
              "width": 0.5
             },
             "pattern": {
              "fillmode": "overlay",
              "size": 10,
              "solidity": 0.2
             }
            },
            "type": "bar"
           }
          ],
          "barpolar": [
           {
            "marker": {
             "line": {
              "color": "#E5ECF6",
              "width": 0.5
             },
             "pattern": {
              "fillmode": "overlay",
              "size": 10,
              "solidity": 0.2
             }
            },
            "type": "barpolar"
           }
          ],
          "carpet": [
           {
            "aaxis": {
             "endlinecolor": "#2a3f5f",
             "gridcolor": "white",
             "linecolor": "white",
             "minorgridcolor": "white",
             "startlinecolor": "#2a3f5f"
            },
            "baxis": {
             "endlinecolor": "#2a3f5f",
             "gridcolor": "white",
             "linecolor": "white",
             "minorgridcolor": "white",
             "startlinecolor": "#2a3f5f"
            },
            "type": "carpet"
           }
          ],
          "choropleth": [
           {
            "colorbar": {
             "outlinewidth": 0,
             "ticks": ""
            },
            "type": "choropleth"
           }
          ],
          "contour": [
           {
            "colorbar": {
             "outlinewidth": 0,
             "ticks": ""
            },
            "colorscale": [
             [
              0,
              "#0d0887"
             ],
             [
              0.1111111111111111,
              "#46039f"
             ],
             [
              0.2222222222222222,
              "#7201a8"
             ],
             [
              0.3333333333333333,
              "#9c179e"
             ],
             [
              0.4444444444444444,
              "#bd3786"
             ],
             [
              0.5555555555555556,
              "#d8576b"
             ],
             [
              0.6666666666666666,
              "#ed7953"
             ],
             [
              0.7777777777777778,
              "#fb9f3a"
             ],
             [
              0.8888888888888888,
              "#fdca26"
             ],
             [
              1,
              "#f0f921"
             ]
            ],
            "type": "contour"
           }
          ],
          "contourcarpet": [
           {
            "colorbar": {
             "outlinewidth": 0,
             "ticks": ""
            },
            "type": "contourcarpet"
           }
          ],
          "heatmap": [
           {
            "colorbar": {
             "outlinewidth": 0,
             "ticks": ""
            },
            "colorscale": [
             [
              0,
              "#0d0887"
             ],
             [
              0.1111111111111111,
              "#46039f"
             ],
             [
              0.2222222222222222,
              "#7201a8"
             ],
             [
              0.3333333333333333,
              "#9c179e"
             ],
             [
              0.4444444444444444,
              "#bd3786"
             ],
             [
              0.5555555555555556,
              "#d8576b"
             ],
             [
              0.6666666666666666,
              "#ed7953"
             ],
             [
              0.7777777777777778,
              "#fb9f3a"
             ],
             [
              0.8888888888888888,
              "#fdca26"
             ],
             [
              1,
              "#f0f921"
             ]
            ],
            "type": "heatmap"
           }
          ],
          "heatmapgl": [
           {
            "colorbar": {
             "outlinewidth": 0,
             "ticks": ""
            },
            "colorscale": [
             [
              0,
              "#0d0887"
             ],
             [
              0.1111111111111111,
              "#46039f"
             ],
             [
              0.2222222222222222,
              "#7201a8"
             ],
             [
              0.3333333333333333,
              "#9c179e"
             ],
             [
              0.4444444444444444,
              "#bd3786"
             ],
             [
              0.5555555555555556,
              "#d8576b"
             ],
             [
              0.6666666666666666,
              "#ed7953"
             ],
             [
              0.7777777777777778,
              "#fb9f3a"
             ],
             [
              0.8888888888888888,
              "#fdca26"
             ],
             [
              1,
              "#f0f921"
             ]
            ],
            "type": "heatmapgl"
           }
          ],
          "histogram": [
           {
            "marker": {
             "pattern": {
              "fillmode": "overlay",
              "size": 10,
              "solidity": 0.2
             }
            },
            "type": "histogram"
           }
          ],
          "histogram2d": [
           {
            "colorbar": {
             "outlinewidth": 0,
             "ticks": ""
            },
            "colorscale": [
             [
              0,
              "#0d0887"
             ],
             [
              0.1111111111111111,
              "#46039f"
             ],
             [
              0.2222222222222222,
              "#7201a8"
             ],
             [
              0.3333333333333333,
              "#9c179e"
             ],
             [
              0.4444444444444444,
              "#bd3786"
             ],
             [
              0.5555555555555556,
              "#d8576b"
             ],
             [
              0.6666666666666666,
              "#ed7953"
             ],
             [
              0.7777777777777778,
              "#fb9f3a"
             ],
             [
              0.8888888888888888,
              "#fdca26"
             ],
             [
              1,
              "#f0f921"
             ]
            ],
            "type": "histogram2d"
           }
          ],
          "histogram2dcontour": [
           {
            "colorbar": {
             "outlinewidth": 0,
             "ticks": ""
            },
            "colorscale": [
             [
              0,
              "#0d0887"
             ],
             [
              0.1111111111111111,
              "#46039f"
             ],
             [
              0.2222222222222222,
              "#7201a8"
             ],
             [
              0.3333333333333333,
              "#9c179e"
             ],
             [
              0.4444444444444444,
              "#bd3786"
             ],
             [
              0.5555555555555556,
              "#d8576b"
             ],
             [
              0.6666666666666666,
              "#ed7953"
             ],
             [
              0.7777777777777778,
              "#fb9f3a"
             ],
             [
              0.8888888888888888,
              "#fdca26"
             ],
             [
              1,
              "#f0f921"
             ]
            ],
            "type": "histogram2dcontour"
           }
          ],
          "mesh3d": [
           {
            "colorbar": {
             "outlinewidth": 0,
             "ticks": ""
            },
            "type": "mesh3d"
           }
          ],
          "parcoords": [
           {
            "line": {
             "colorbar": {
              "outlinewidth": 0,
              "ticks": ""
             }
            },
            "type": "parcoords"
           }
          ],
          "pie": [
           {
            "automargin": true,
            "type": "pie"
           }
          ],
          "scatter": [
           {
            "fillpattern": {
             "fillmode": "overlay",
             "size": 10,
             "solidity": 0.2
            },
            "type": "scatter"
           }
          ],
          "scatter3d": [
           {
            "line": {
             "colorbar": {
              "outlinewidth": 0,
              "ticks": ""
             }
            },
            "marker": {
             "colorbar": {
              "outlinewidth": 0,
              "ticks": ""
             }
            },
            "type": "scatter3d"
           }
          ],
          "scattercarpet": [
           {
            "marker": {
             "colorbar": {
              "outlinewidth": 0,
              "ticks": ""
             }
            },
            "type": "scattercarpet"
           }
          ],
          "scattergeo": [
           {
            "marker": {
             "colorbar": {
              "outlinewidth": 0,
              "ticks": ""
             }
            },
            "type": "scattergeo"
           }
          ],
          "scattergl": [
           {
            "marker": {
             "colorbar": {
              "outlinewidth": 0,
              "ticks": ""
             }
            },
            "type": "scattergl"
           }
          ],
          "scattermapbox": [
           {
            "marker": {
             "colorbar": {
              "outlinewidth": 0,
              "ticks": ""
             }
            },
            "type": "scattermapbox"
           }
          ],
          "scatterpolar": [
           {
            "marker": {
             "colorbar": {
              "outlinewidth": 0,
              "ticks": ""
             }
            },
            "type": "scatterpolar"
           }
          ],
          "scatterpolargl": [
           {
            "marker": {
             "colorbar": {
              "outlinewidth": 0,
              "ticks": ""
             }
            },
            "type": "scatterpolargl"
           }
          ],
          "scatterternary": [
           {
            "marker": {
             "colorbar": {
              "outlinewidth": 0,
              "ticks": ""
             }
            },
            "type": "scatterternary"
           }
          ],
          "surface": [
           {
            "colorbar": {
             "outlinewidth": 0,
             "ticks": ""
            },
            "colorscale": [
             [
              0,
              "#0d0887"
             ],
             [
              0.1111111111111111,
              "#46039f"
             ],
             [
              0.2222222222222222,
              "#7201a8"
             ],
             [
              0.3333333333333333,
              "#9c179e"
             ],
             [
              0.4444444444444444,
              "#bd3786"
             ],
             [
              0.5555555555555556,
              "#d8576b"
             ],
             [
              0.6666666666666666,
              "#ed7953"
             ],
             [
              0.7777777777777778,
              "#fb9f3a"
             ],
             [
              0.8888888888888888,
              "#fdca26"
             ],
             [
              1,
              "#f0f921"
             ]
            ],
            "type": "surface"
           }
          ],
          "table": [
           {
            "cells": {
             "fill": {
              "color": "#EBF0F8"
             },
             "line": {
              "color": "white"
             }
            },
            "header": {
             "fill": {
              "color": "#C8D4E3"
             },
             "line": {
              "color": "white"
             }
            },
            "type": "table"
           }
          ]
         },
         "layout": {
          "annotationdefaults": {
           "arrowcolor": "#2a3f5f",
           "arrowhead": 0,
           "arrowwidth": 1
          },
          "autotypenumbers": "strict",
          "coloraxis": {
           "colorbar": {
            "outlinewidth": 0,
            "ticks": ""
           }
          },
          "colorscale": {
           "diverging": [
            [
             0,
             "#8e0152"
            ],
            [
             0.1,
             "#c51b7d"
            ],
            [
             0.2,
             "#de77ae"
            ],
            [
             0.3,
             "#f1b6da"
            ],
            [
             0.4,
             "#fde0ef"
            ],
            [
             0.5,
             "#f7f7f7"
            ],
            [
             0.6,
             "#e6f5d0"
            ],
            [
             0.7,
             "#b8e186"
            ],
            [
             0.8,
             "#7fbc41"
            ],
            [
             0.9,
             "#4d9221"
            ],
            [
             1,
             "#276419"
            ]
           ],
           "sequential": [
            [
             0,
             "#0d0887"
            ],
            [
             0.1111111111111111,
             "#46039f"
            ],
            [
             0.2222222222222222,
             "#7201a8"
            ],
            [
             0.3333333333333333,
             "#9c179e"
            ],
            [
             0.4444444444444444,
             "#bd3786"
            ],
            [
             0.5555555555555556,
             "#d8576b"
            ],
            [
             0.6666666666666666,
             "#ed7953"
            ],
            [
             0.7777777777777778,
             "#fb9f3a"
            ],
            [
             0.8888888888888888,
             "#fdca26"
            ],
            [
             1,
             "#f0f921"
            ]
           ],
           "sequentialminus": [
            [
             0,
             "#0d0887"
            ],
            [
             0.1111111111111111,
             "#46039f"
            ],
            [
             0.2222222222222222,
             "#7201a8"
            ],
            [
             0.3333333333333333,
             "#9c179e"
            ],
            [
             0.4444444444444444,
             "#bd3786"
            ],
            [
             0.5555555555555556,
             "#d8576b"
            ],
            [
             0.6666666666666666,
             "#ed7953"
            ],
            [
             0.7777777777777778,
             "#fb9f3a"
            ],
            [
             0.8888888888888888,
             "#fdca26"
            ],
            [
             1,
             "#f0f921"
            ]
           ]
          },
          "colorway": [
           "#636efa",
           "#EF553B",
           "#00cc96",
           "#ab63fa",
           "#FFA15A",
           "#19d3f3",
           "#FF6692",
           "#B6E880",
           "#FF97FF",
           "#FECB52"
          ],
          "font": {
           "color": "#2a3f5f"
          },
          "geo": {
           "bgcolor": "white",
           "lakecolor": "white",
           "landcolor": "#E5ECF6",
           "showlakes": true,
           "showland": true,
           "subunitcolor": "white"
          },
          "hoverlabel": {
           "align": "left"
          },
          "hovermode": "closest",
          "mapbox": {
           "style": "light"
          },
          "paper_bgcolor": "white",
          "plot_bgcolor": "#E5ECF6",
          "polar": {
           "angularaxis": {
            "gridcolor": "white",
            "linecolor": "white",
            "ticks": ""
           },
           "bgcolor": "#E5ECF6",
           "radialaxis": {
            "gridcolor": "white",
            "linecolor": "white",
            "ticks": ""
           }
          },
          "scene": {
           "xaxis": {
            "backgroundcolor": "#E5ECF6",
            "gridcolor": "white",
            "gridwidth": 2,
            "linecolor": "white",
            "showbackground": true,
            "ticks": "",
            "zerolinecolor": "white"
           },
           "yaxis": {
            "backgroundcolor": "#E5ECF6",
            "gridcolor": "white",
            "gridwidth": 2,
            "linecolor": "white",
            "showbackground": true,
            "ticks": "",
            "zerolinecolor": "white"
           },
           "zaxis": {
            "backgroundcolor": "#E5ECF6",
            "gridcolor": "white",
            "gridwidth": 2,
            "linecolor": "white",
            "showbackground": true,
            "ticks": "",
            "zerolinecolor": "white"
           }
          },
          "shapedefaults": {
           "line": {
            "color": "#2a3f5f"
           }
          },
          "ternary": {
           "aaxis": {
            "gridcolor": "white",
            "linecolor": "white",
            "ticks": ""
           },
           "baxis": {
            "gridcolor": "white",
            "linecolor": "white",
            "ticks": ""
           },
           "bgcolor": "#E5ECF6",
           "caxis": {
            "gridcolor": "white",
            "linecolor": "white",
            "ticks": ""
           }
          },
          "title": {
           "x": 0.05
          },
          "xaxis": {
           "automargin": true,
           "gridcolor": "white",
           "linecolor": "white",
           "ticks": "",
           "title": {
            "standoff": 15
           },
           "zerolinecolor": "white",
           "zerolinewidth": 2
          },
          "yaxis": {
           "automargin": true,
           "gridcolor": "white",
           "linecolor": "white",
           "ticks": "",
           "title": {
            "standoff": 15
           },
           "zerolinecolor": "white",
           "zerolinewidth": 2
          }
         }
        },
        "xaxis": {
         "anchor": "y",
         "domain": [
          0,
          0.48
         ],
         "title": {
          "text": "Area"
         }
        },
        "xaxis2": {
         "anchor": "y2",
         "domain": [
          0.5,
          0.98
         ],
         "matches": "x",
         "title": {
          "text": "Area"
         }
        },
        "yaxis": {
         "anchor": "x",
         "domain": [
          0,
          1
         ],
         "title": {
          "text": "Value"
         }
        },
        "yaxis2": {
         "anchor": "x2",
         "domain": [
          0,
          1
         ],
         "matches": "y",
         "showticklabels": false
        }
       }
      }
     },
     "metadata": {},
     "output_type": "display_data"
    }
   ],
   "source": [
    "import plotly.express as px\n",
    "df = pd.read_csv(\"temp_change.csv\")\n",
    "fig = px.bar(df, x=\"Area\", y=\"Value\", color=\"Year\", barmode=\"group\", facet_row=\"Months\", facet_col=\"Element\")\n",
    "fig.show() "
   ]
  },
  {
   "cell_type": "code",
   "execution_count": 1,
   "metadata": {},
   "outputs": [
    {
     "ename": "NameError",
     "evalue": "name 'pd' is not defined",
     "output_type": "error",
     "traceback": [
      "\u001b[1;31m---------------------------------------------------------------------------\u001b[0m",
      "\u001b[1;31mNameError\u001b[0m                                 Traceback (most recent call last)",
      "Input \u001b[1;32mIn [1]\u001b[0m, in \u001b[0;36m<cell line: 3>\u001b[1;34m()\u001b[0m\n\u001b[0;32m      1\u001b[0m \u001b[38;5;28;01mimport\u001b[39;00m \u001b[38;5;21;01mplotly\u001b[39;00m\u001b[38;5;21;01m.\u001b[39;00m\u001b[38;5;21;01mexpress\u001b[39;00m \u001b[38;5;28;01mas\u001b[39;00m \u001b[38;5;21;01mpx\u001b[39;00m\n\u001b[1;32m----> 3\u001b[0m df \u001b[38;5;241m=\u001b[39m \u001b[43mpd\u001b[49m\u001b[38;5;241m.\u001b[39mread_csv(\u001b[38;5;124m\"\u001b[39m\u001b[38;5;124mtemp_change.csv\u001b[39m\u001b[38;5;124m\"\u001b[39m)\n\u001b[0;32m      4\u001b[0m fig \u001b[38;5;241m=\u001b[39m px\u001b[38;5;241m.\u001b[39mpie(df, values\u001b[38;5;241m=\u001b[39m\u001b[38;5;124m'\u001b[39m\u001b[38;5;124mYear\u001b[39m\u001b[38;5;124m'\u001b[39m, names\u001b[38;5;241m=\u001b[39m\u001b[38;5;124m'\u001b[39m\u001b[38;5;124mArea\u001b[39m\u001b[38;5;124m'\u001b[39m)\n\u001b[0;32m      5\u001b[0m fig\u001b[38;5;241m.\u001b[39mupdate_traces(textposition\u001b[38;5;241m=\u001b[39m\u001b[38;5;124m'\u001b[39m\u001b[38;5;124minside\u001b[39m\u001b[38;5;124m'\u001b[39m)\n",
      "\u001b[1;31mNameError\u001b[0m: name 'pd' is not defined"
     ]
    }
   ],
   "source": [
    "import plotly.express as px\n",
    "\n",
    "df = pd.read_csv(\"temp_change.csv\")\n",
    "fig = px.pie(df, values='Year', names='Area')\n",
    "fig.update_traces(textposition='inside')\n",
    "fig.update_layout(uniformtext_minsize=12, uniformtext_mode='hide')\n",
    "fig.show()"
   ]
  },
  {
   "cell_type": "code",
   "execution_count": null,
   "metadata": {},
   "outputs": [],
   "source": [
    "# import plotly.express as px\n",
    "# df = pd.read_csv(\"temp_change.csv\")\n",
    "# px.scatter(df, x=\"Element\", y=\"Value\", animation_frame=\"Year\", animation_group=\"Area\",\n",
    "#            size=\"Flag\", color=\"Months\", hover_name=\"Area\",\n",
    "#            log_x=True, size_max=55, range_x=[100,100000], range_y=[25,90])\n",
    "\n",
    "# NOT WORKING"
   ]
  },
  {
   "cell_type": "markdown",
   "metadata": {},
   "source": [
    "# PANDAS "
   ]
  },
  {
   "cell_type": "code",
   "execution_count": 2,
   "metadata": {},
   "outputs": [],
   "source": [
    "import pandas as pd\n",
    "import numpy as np\n"
   ]
  },
  {
   "cell_type": "code",
   "execution_count": 3,
   "metadata": {},
   "outputs": [
    {
     "data": {
      "text/plain": [
       "0    3.0\n",
       "1    5.0\n",
       "2    NaN\n",
       "3    8.0\n",
       "4    9.0\n",
       "dtype: float64"
      ]
     },
     "execution_count": 3,
     "metadata": {},
     "output_type": "execute_result"
    }
   ],
   "source": [
    "# Object Creation\n",
    "d = pd.Series([3,5,np.nan,8,9])\n",
    "d"
   ]
  },
  {
   "cell_type": "code",
   "execution_count": 4,
   "metadata": {},
   "outputs": [
    {
     "data": {
      "text/plain": [
       "DatetimeIndex(['2022-03-16', '2022-03-17', '2022-03-18', '2022-03-19',\n",
       "               '2022-03-20', '2022-03-21'],\n",
       "              dtype='datetime64[ns]', freq='D')"
      ]
     },
     "execution_count": 4,
     "metadata": {},
     "output_type": "execute_result"
    }
   ],
   "source": [
    "dates = pd.date_range(\"20220316\",periods=6)\n",
    "dates"
   ]
  },
  {
   "cell_type": "code",
   "execution_count": 6,
   "metadata": {},
   "outputs": [
    {
     "data": {
      "text/html": [
       "<div>\n",
       "<style scoped>\n",
       "    .dataframe tbody tr th:only-of-type {\n",
       "        vertical-align: middle;\n",
       "    }\n",
       "\n",
       "    .dataframe tbody tr th {\n",
       "        vertical-align: top;\n",
       "    }\n",
       "\n",
       "    .dataframe thead th {\n",
       "        text-align: right;\n",
       "    }\n",
       "</style>\n",
       "<table border=\"1\" class=\"dataframe\">\n",
       "  <thead>\n",
       "    <tr style=\"text-align: right;\">\n",
       "      <th></th>\n",
       "      <th>A</th>\n",
       "      <th>B</th>\n",
       "      <th>C</th>\n",
       "      <th>D</th>\n",
       "      <th>E</th>\n",
       "    </tr>\n",
       "  </thead>\n",
       "  <tbody>\n",
       "    <tr>\n",
       "      <th>2022-03-01</th>\n",
       "      <td>0.712911</td>\n",
       "      <td>0.016136</td>\n",
       "      <td>0.599300</td>\n",
       "      <td>0.889478</td>\n",
       "      <td>-1.713298</td>\n",
       "    </tr>\n",
       "    <tr>\n",
       "      <th>2022-03-02</th>\n",
       "      <td>-1.065819</td>\n",
       "      <td>-0.391632</td>\n",
       "      <td>-0.877247</td>\n",
       "      <td>0.434464</td>\n",
       "      <td>-0.695352</td>\n",
       "    </tr>\n",
       "    <tr>\n",
       "      <th>2022-03-03</th>\n",
       "      <td>-1.516696</td>\n",
       "      <td>-0.634747</td>\n",
       "      <td>2.067276</td>\n",
       "      <td>0.832148</td>\n",
       "      <td>-0.617818</td>\n",
       "    </tr>\n",
       "    <tr>\n",
       "      <th>2022-03-04</th>\n",
       "      <td>-1.278548</td>\n",
       "      <td>-1.354446</td>\n",
       "      <td>-0.810237</td>\n",
       "      <td>-0.828879</td>\n",
       "      <td>0.297012</td>\n",
       "    </tr>\n",
       "    <tr>\n",
       "      <th>2022-03-05</th>\n",
       "      <td>-0.716713</td>\n",
       "      <td>0.480440</td>\n",
       "      <td>0.405701</td>\n",
       "      <td>-0.061844</td>\n",
       "      <td>-0.172363</td>\n",
       "    </tr>\n",
       "  </tbody>\n",
       "</table>\n",
       "</div>"
      ],
      "text/plain": [
       "                   A         B         C         D         E\n",
       "2022-03-01  0.712911  0.016136  0.599300  0.889478 -1.713298\n",
       "2022-03-02 -1.065819 -0.391632 -0.877247  0.434464 -0.695352\n",
       "2022-03-03 -1.516696 -0.634747  2.067276  0.832148 -0.617818\n",
       "2022-03-04 -1.278548 -1.354446 -0.810237 -0.828879  0.297012\n",
       "2022-03-05 -0.716713  0.480440  0.405701 -0.061844 -0.172363"
      ]
     },
     "execution_count": 6,
     "metadata": {},
     "output_type": "execute_result"
    }
   ],
   "source": [
    "dates = pd.date_range(\"20220301\",periods=20)\n",
    "df = pd.DataFrame(np.random.randn(20,5), index=dates, columns=list(\"ABCDE\"))\n",
    "df.head()"
   ]
  },
  {
   "cell_type": "code",
   "execution_count": 7,
   "metadata": {},
   "outputs": [
    {
     "data": {
      "text/html": [
       "<div>\n",
       "<style scoped>\n",
       "    .dataframe tbody tr th:only-of-type {\n",
       "        vertical-align: middle;\n",
       "    }\n",
       "\n",
       "    .dataframe tbody tr th {\n",
       "        vertical-align: top;\n",
       "    }\n",
       "\n",
       "    .dataframe thead th {\n",
       "        text-align: right;\n",
       "    }\n",
       "</style>\n",
       "<table border=\"1\" class=\"dataframe\">\n",
       "  <thead>\n",
       "    <tr style=\"text-align: right;\">\n",
       "      <th></th>\n",
       "      <th>A</th>\n",
       "      <th>B</th>\n",
       "      <th>C</th>\n",
       "      <th>D</th>\n",
       "      <th>E</th>\n",
       "      <th>F</th>\n",
       "    </tr>\n",
       "  </thead>\n",
       "  <tbody>\n",
       "    <tr>\n",
       "      <th>0</th>\n",
       "      <td>1.0</td>\n",
       "      <td>2022-09-23</td>\n",
       "      <td>1.0</td>\n",
       "      <td>3</td>\n",
       "      <td>girl</td>\n",
       "      <td>female</td>\n",
       "    </tr>\n",
       "    <tr>\n",
       "      <th>1</th>\n",
       "      <td>1.0</td>\n",
       "      <td>2022-09-23</td>\n",
       "      <td>1.0</td>\n",
       "      <td>3</td>\n",
       "      <td>women</td>\n",
       "      <td>female</td>\n",
       "    </tr>\n",
       "    <tr>\n",
       "      <th>2</th>\n",
       "      <td>1.0</td>\n",
       "      <td>2022-09-23</td>\n",
       "      <td>1.0</td>\n",
       "      <td>3</td>\n",
       "      <td>girl</td>\n",
       "      <td>female</td>\n",
       "    </tr>\n",
       "    <tr>\n",
       "      <th>3</th>\n",
       "      <td>1.0</td>\n",
       "      <td>2022-09-23</td>\n",
       "      <td>1.0</td>\n",
       "      <td>3</td>\n",
       "      <td>women</td>\n",
       "      <td>female</td>\n",
       "    </tr>\n",
       "  </tbody>\n",
       "</table>\n",
       "</div>"
      ],
      "text/plain": [
       "     A          B    C  D      E       F\n",
       "0  1.0 2022-09-23  1.0  3   girl  female\n",
       "1  1.0 2022-09-23  1.0  3  women  female\n",
       "2  1.0 2022-09-23  1.0  3   girl  female\n",
       "3  1.0 2022-09-23  1.0  3  women  female"
      ]
     },
     "execution_count": 7,
     "metadata": {},
     "output_type": "execute_result"
    }
   ],
   "source": [
    "df2 = pd.DataFrame(\n",
    "    {\n",
    "        \"A\": 1.0,\n",
    "        \"B\": pd.Timestamp(\"20220923\"),\n",
    "        \"C\": pd.Series(1, index=list(range(4)), dtype=\"float32\"),\n",
    "        \"D\": np.array([3] * 4, dtype=\"int32\"),\n",
    "        \"E\": pd.Categorical([\"girl\", \"women\", \"girl\", \"women\"]),\n",
    "        \"F\": \"female\",\n",
    "        \n",
    "    }\n",
    ")\n",
    "\n",
    "df2"
   ]
  },
  {
   "cell_type": "code",
   "execution_count": 8,
   "metadata": {},
   "outputs": [
    {
     "data": {
      "text/plain": [
       "DatetimeIndex(['2022-03-01', '2022-03-02', '2022-03-03', '2022-03-04',\n",
       "               '2022-03-05', '2022-03-06', '2022-03-07', '2022-03-08',\n",
       "               '2022-03-09', '2022-03-10', '2022-03-11', '2022-03-12',\n",
       "               '2022-03-13', '2022-03-14', '2022-03-15', '2022-03-16',\n",
       "               '2022-03-17', '2022-03-18', '2022-03-19', '2022-03-20'],\n",
       "              dtype='datetime64[ns]', freq='D')"
      ]
     },
     "execution_count": 8,
     "metadata": {},
     "output_type": "execute_result"
    }
   ],
   "source": [
    "df.index"
   ]
  },
  {
   "cell_type": "code",
   "execution_count": 10,
   "metadata": {},
   "outputs": [
    {
     "data": {
      "text/html": [
       "<div>\n",
       "<style scoped>\n",
       "    .dataframe tbody tr th:only-of-type {\n",
       "        vertical-align: middle;\n",
       "    }\n",
       "\n",
       "    .dataframe tbody tr th {\n",
       "        vertical-align: top;\n",
       "    }\n",
       "\n",
       "    .dataframe thead th {\n",
       "        text-align: right;\n",
       "    }\n",
       "</style>\n",
       "<table border=\"1\" class=\"dataframe\">\n",
       "  <thead>\n",
       "    <tr style=\"text-align: right;\">\n",
       "      <th></th>\n",
       "      <th>A</th>\n",
       "      <th>B</th>\n",
       "      <th>C</th>\n",
       "      <th>D</th>\n",
       "      <th>E</th>\n",
       "    </tr>\n",
       "  </thead>\n",
       "  <tbody>\n",
       "    <tr>\n",
       "      <th>2022-03-01</th>\n",
       "      <td>0.712911</td>\n",
       "      <td>0.016136</td>\n",
       "      <td>0.599300</td>\n",
       "      <td>0.889478</td>\n",
       "      <td>-1.713298</td>\n",
       "    </tr>\n",
       "    <tr>\n",
       "      <th>2022-03-02</th>\n",
       "      <td>-1.065819</td>\n",
       "      <td>-0.391632</td>\n",
       "      <td>-0.877247</td>\n",
       "      <td>0.434464</td>\n",
       "      <td>-0.695352</td>\n",
       "    </tr>\n",
       "    <tr>\n",
       "      <th>2022-03-03</th>\n",
       "      <td>-1.516696</td>\n",
       "      <td>-0.634747</td>\n",
       "      <td>2.067276</td>\n",
       "      <td>0.832148</td>\n",
       "      <td>-0.617818</td>\n",
       "    </tr>\n",
       "    <tr>\n",
       "      <th>2022-03-04</th>\n",
       "      <td>-1.278548</td>\n",
       "      <td>-1.354446</td>\n",
       "      <td>-0.810237</td>\n",
       "      <td>-0.828879</td>\n",
       "      <td>0.297012</td>\n",
       "    </tr>\n",
       "    <tr>\n",
       "      <th>2022-03-05</th>\n",
       "      <td>-0.716713</td>\n",
       "      <td>0.480440</td>\n",
       "      <td>0.405701</td>\n",
       "      <td>-0.061844</td>\n",
       "      <td>-0.172363</td>\n",
       "    </tr>\n",
       "    <tr>\n",
       "      <th>2022-03-06</th>\n",
       "      <td>-0.681453</td>\n",
       "      <td>0.425053</td>\n",
       "      <td>-0.866461</td>\n",
       "      <td>0.327049</td>\n",
       "      <td>-1.193389</td>\n",
       "    </tr>\n",
       "    <tr>\n",
       "      <th>2022-03-07</th>\n",
       "      <td>0.035859</td>\n",
       "      <td>1.214298</td>\n",
       "      <td>0.451853</td>\n",
       "      <td>0.279824</td>\n",
       "      <td>1.658718</td>\n",
       "    </tr>\n",
       "    <tr>\n",
       "      <th>2022-03-08</th>\n",
       "      <td>-0.130203</td>\n",
       "      <td>1.250629</td>\n",
       "      <td>0.723226</td>\n",
       "      <td>0.346612</td>\n",
       "      <td>0.268621</td>\n",
       "    </tr>\n",
       "    <tr>\n",
       "      <th>2022-03-09</th>\n",
       "      <td>0.559631</td>\n",
       "      <td>-2.575658</td>\n",
       "      <td>-0.225771</td>\n",
       "      <td>-0.999421</td>\n",
       "      <td>0.477802</td>\n",
       "    </tr>\n",
       "    <tr>\n",
       "      <th>2022-03-10</th>\n",
       "      <td>1.411836</td>\n",
       "      <td>0.969193</td>\n",
       "      <td>0.104420</td>\n",
       "      <td>0.370139</td>\n",
       "      <td>-0.577072</td>\n",
       "    </tr>\n",
       "    <tr>\n",
       "      <th>2022-03-11</th>\n",
       "      <td>0.653584</td>\n",
       "      <td>0.449262</td>\n",
       "      <td>0.221724</td>\n",
       "      <td>-0.960550</td>\n",
       "      <td>2.640053</td>\n",
       "    </tr>\n",
       "    <tr>\n",
       "      <th>2022-03-12</th>\n",
       "      <td>-1.456323</td>\n",
       "      <td>-1.390428</td>\n",
       "      <td>-1.452329</td>\n",
       "      <td>-1.515377</td>\n",
       "      <td>1.908838</td>\n",
       "    </tr>\n",
       "    <tr>\n",
       "      <th>2022-03-13</th>\n",
       "      <td>-0.212951</td>\n",
       "      <td>0.050606</td>\n",
       "      <td>0.748251</td>\n",
       "      <td>0.060002</td>\n",
       "      <td>-1.500866</td>\n",
       "    </tr>\n",
       "    <tr>\n",
       "      <th>2022-03-14</th>\n",
       "      <td>-0.900290</td>\n",
       "      <td>0.312982</td>\n",
       "      <td>0.496705</td>\n",
       "      <td>0.420214</td>\n",
       "      <td>0.121829</td>\n",
       "    </tr>\n",
       "    <tr>\n",
       "      <th>2022-03-15</th>\n",
       "      <td>3.023853</td>\n",
       "      <td>-1.057773</td>\n",
       "      <td>0.038810</td>\n",
       "      <td>-2.218638</td>\n",
       "      <td>-1.061654</td>\n",
       "    </tr>\n",
       "    <tr>\n",
       "      <th>2022-03-16</th>\n",
       "      <td>-0.622978</td>\n",
       "      <td>1.952503</td>\n",
       "      <td>-0.440109</td>\n",
       "      <td>0.749223</td>\n",
       "      <td>-0.115893</td>\n",
       "    </tr>\n",
       "    <tr>\n",
       "      <th>2022-03-17</th>\n",
       "      <td>1.039469</td>\n",
       "      <td>-0.241700</td>\n",
       "      <td>1.109360</td>\n",
       "      <td>-2.488369</td>\n",
       "      <td>-0.445905</td>\n",
       "    </tr>\n",
       "    <tr>\n",
       "      <th>2022-03-18</th>\n",
       "      <td>-0.766826</td>\n",
       "      <td>-1.753629</td>\n",
       "      <td>-0.105362</td>\n",
       "      <td>-0.156876</td>\n",
       "      <td>-1.896706</td>\n",
       "    </tr>\n",
       "    <tr>\n",
       "      <th>2022-03-19</th>\n",
       "      <td>-0.645690</td>\n",
       "      <td>0.311122</td>\n",
       "      <td>0.317882</td>\n",
       "      <td>0.137232</td>\n",
       "      <td>-0.012765</td>\n",
       "    </tr>\n",
       "    <tr>\n",
       "      <th>2022-03-20</th>\n",
       "      <td>-0.909198</td>\n",
       "      <td>0.981207</td>\n",
       "      <td>-0.793866</td>\n",
       "      <td>-0.364109</td>\n",
       "      <td>0.879879</td>\n",
       "    </tr>\n",
       "  </tbody>\n",
       "</table>\n",
       "</div>"
      ],
      "text/plain": [
       "                   A         B         C         D         E\n",
       "2022-03-01  0.712911  0.016136  0.599300  0.889478 -1.713298\n",
       "2022-03-02 -1.065819 -0.391632 -0.877247  0.434464 -0.695352\n",
       "2022-03-03 -1.516696 -0.634747  2.067276  0.832148 -0.617818\n",
       "2022-03-04 -1.278548 -1.354446 -0.810237 -0.828879  0.297012\n",
       "2022-03-05 -0.716713  0.480440  0.405701 -0.061844 -0.172363\n",
       "2022-03-06 -0.681453  0.425053 -0.866461  0.327049 -1.193389\n",
       "2022-03-07  0.035859  1.214298  0.451853  0.279824  1.658718\n",
       "2022-03-08 -0.130203  1.250629  0.723226  0.346612  0.268621\n",
       "2022-03-09  0.559631 -2.575658 -0.225771 -0.999421  0.477802\n",
       "2022-03-10  1.411836  0.969193  0.104420  0.370139 -0.577072\n",
       "2022-03-11  0.653584  0.449262  0.221724 -0.960550  2.640053\n",
       "2022-03-12 -1.456323 -1.390428 -1.452329 -1.515377  1.908838\n",
       "2022-03-13 -0.212951  0.050606  0.748251  0.060002 -1.500866\n",
       "2022-03-14 -0.900290  0.312982  0.496705  0.420214  0.121829\n",
       "2022-03-15  3.023853 -1.057773  0.038810 -2.218638 -1.061654\n",
       "2022-03-16 -0.622978  1.952503 -0.440109  0.749223 -0.115893\n",
       "2022-03-17  1.039469 -0.241700  1.109360 -2.488369 -0.445905\n",
       "2022-03-18 -0.766826 -1.753629 -0.105362 -0.156876 -1.896706\n",
       "2022-03-19 -0.645690  0.311122  0.317882  0.137232 -0.012765\n",
       "2022-03-20 -0.909198  0.981207 -0.793866 -0.364109  0.879879"
      ]
     },
     "execution_count": 10,
     "metadata": {},
     "output_type": "execute_result"
    }
   ],
   "source": [
    "df.sort_index(axis=1, ascending=True)    "
   ]
  },
  {
   "cell_type": "code",
   "execution_count": null,
   "metadata": {},
   "outputs": [],
   "source": []
  }
 ],
 "metadata": {
  "kernelspec": {
   "display_name": "Python 3 (ipykernel)",
   "language": "python",
   "name": "python3"
  },
  "language_info": {
   "codemirror_mode": {
    "name": "ipython",
    "version": 3
   },
   "file_extension": ".py",
   "mimetype": "text/x-python",
   "name": "python",
   "nbconvert_exporter": "python",
   "pygments_lexer": "ipython3",
   "version": "3.9.12"
  },
  "vscode": {
   "interpreter": {
    "hash": "7fd5f0ae0ac350a363f5a11ffbf7b24bda9f74a3f3d508a6abe7beb4472e3c34"
   }
  }
 },
 "nbformat": 4,
 "nbformat_minor": 2
}
